{
 "cells": [
  {
   "cell_type": "markdown",
   "metadata": {},
   "source": [
    "<h2 id=\"Pembobotan-dan-Similarity\"><strong>Preprocessing</strong></h2>"
   ]
  },
  {
   "cell_type": "code",
   "execution_count": 160,
   "metadata": {},
   "outputs": [],
   "source": [
    "import nltk\n",
    "import string\n",
    "import re\n",
    "import pandas as pd\n",
    "import os\n",
    "from nltk.corpus import stopwords\n",
    "from nltk.tokenize import word_tokenize \n",
    "from nltk.stem import SnowballStemmer\n",
    "from nltk.stem import PorterStemmer\n",
    "from nltk.stem import WordNetLemmatizer\n",
    "from string import punctuation\n",
    "from autocorrect import spell\n",
    "\n",
    "snowball_stemmer = SnowballStemmer('english')\n",
    "wordnet_lemmatizer = WordNetLemmatizer()"
   ]
  },
  {
   "cell_type": "code",
   "execution_count": 161,
   "metadata": {},
   "outputs": [],
   "source": [
    "data = pd.read_csv(os.path.join(\"requirement.csv\"))\n",
    "df = data"
   ]
  },
  {
   "cell_type": "code",
   "execution_count": 162,
   "metadata": {},
   "outputs": [
    {
     "data": {
      "text/plain": [
       "149    Fixed up the formatting and table of contents,...\n",
       "150    The diagram designer is in charge of designing...\n",
       "151    Ways to avoid scope creep are to develop chang...\n",
       "152    Be careful of “scope creep” which are uncontro...\n",
       "153    The major technology that you rely upon could ...\n",
       "Name: req, dtype: object"
      ]
     },
     "execution_count": 162,
     "metadata": {},
     "output_type": "execute_result"
    }
   ],
   "source": [
    "df['req'].tail(5)"
   ]
  },
  {
   "cell_type": "code",
   "execution_count": 163,
   "metadata": {},
   "outputs": [],
   "source": [
    "def autospell(text):\n",
    "    spells = [spell(w) for w in (nltk.word_tokenize(text))]\n",
    "    return \" \".join(spells)\n",
    "\n",
    "def to_lower(text):\n",
    "    return text.str.lower()\n",
    "\n",
    "def remove_numbers(text):\n",
    "    output = ''.join(c for c in text if not c.isdigit())\n",
    "    return output\n",
    "\n",
    "def remove_punct(text):\n",
    "    return ''.join(c for c in text if c not in punctuation)\n",
    "\n",
    "def remove_Tags(text):\n",
    "    cleaned_text = re.sub('<[^<]+?>', '', text)\n",
    "    return cleaned_text\n",
    "\n",
    "def sentence_tokenize(text):\n",
    "    sent_list = []\n",
    "    for w in nltk.sent_tokenize(text):\n",
    "        sent_list.append(w)\n",
    "    return sent_list\n",
    "\n",
    "def word_tokenize(text):\n",
    "    return [w for sent in nltk.sent_tokenize(text) for w in nltk.word_tokenize(sent)]\n",
    "\n",
    "def remove_stopwords(sentence):\n",
    "    stop_words = stopwords.words('english')\n",
    "    return ' '.join([w for w in nltk.word_tokenize(sentence) if not w in stop_words])\n",
    "\n",
    "def stem(text):\n",
    "    stemmed_word = [snowball_stemmer.stem(word) for sent in nltk.sent_tokenize(text)for word in nltk.word_tokenize(sent)]\n",
    "    return \" \".join(stemmed_word)\n",
    "\n",
    "def lemmatize(text):\n",
    "    lemmatized_word = [wordnet_lemmatizer.lemmatize(word)for sent in nltk.sent_tokenize(text)for word in nltk.word_tokenize(sent)]\n",
    "    return \" \".join(lemmatized_word)        "
   ]
  },
  {
   "cell_type": "code",
   "execution_count": 164,
   "metadata": {},
   "outputs": [],
   "source": [
    "lower_text = to_lower(df['req'])\n",
    "word_list=[]\n",
    "for i in lower_text:\n",
    "    i = remove_numbers(i)\n",
    "    i = remove_punct(i)\n",
    "    i = remove_Tags(i)\n",
    "    i = remove_stopwords(i)\n",
    "    i = lemmatize(i)\n",
    "    word_list.append(i)"
   ]
  },
  {
   "cell_type": "code",
   "execution_count": 165,
   "metadata": {},
   "outputs": [
    {
     "data": {
      "text/plain": [
       "['user submit job associate deadline cost execution time',\n",
       " 'user query cluster establish cost unit time submit job',\n",
       " 'user monitor status submit job',\n",
       " 'user cancel job submit',\n",
       " 'user check credit balance',\n",
       " 'user check usage history',\n",
       " 'user check status node cluster',\n",
       " 'user check usage pattern history cluster',\n",
       " 'user check status submit job',\n",
       " 'user check load node cluster',\n",
       " 'user alters cost structure cluster',\n",
       " 'user alters schedule policy cluster',\n",
       " 'user take photo new student',\n",
       " 'development process follow rational unified process rup approach',\n",
       " 'sdms developed waterfall process model',\n",
       " 'objective project develop meeting scheduler product organized routine allows u concentrate core element different phase easily efficiently',\n",
       " 'web tier deal presentation logic page rendering',\n",
       " 'eis tier responsible storing user profile ride advertisement',\n",
       " 'runtime pattern applied',\n",
       " 'development done extra application server',\n",
       " 'application deployed application server working cluster future',\n",
       " 'application server ibm server running jboss application server',\n",
       " 'database server ibm server running mysql server',\n",
       " 'application server database server redundancy using mirroring raid mode',\n",
       " 'workstation run linux use eclipse platform development',\n",
       " 'system administrator must able deactivate reactivate student account login',\n",
       " 'system administrator must able force sending new password student via email',\n",
       " 'system administrator must able change student detail',\n",
       " 'student register system fill detail forward choose projectsupervisor',\n",
       " 'student change detail information incorrect telephone number',\n",
       " 'student change login password time security reason',\n",
       " 'student request password heshe forgotten password',\n",
       " 'staff view detail student',\n",
       " 'certain staff may designated unit cohort coordinator change detail student unit project cohort',\n",
       " 'unit cohort coordinator change student detail incorrect information',\n",
       " 'unit cohort coordinator view student information monitor progress',\n",
       " 'unit cohort coordinator list employee request personal development program',\n",
       " 'unit cohort coordinator reset student password required',\n",
       " 'system administrator backup mail server course registration regularly',\n",
       " 'system administrator reset student password required',\n",
       " 'administration staff create monthly accounting report',\n",
       " 'administration staff make school announcement',\n",
       " 'model encompasses following activity system engineering requirement analysis software design implementation testing requirement analysis highly emphasized',\n",
       " 'sdms developed waterfall process model',\n",
       " 'team consists member member involved subphase project team leader',\n",
       " 'team crutch developing software application android cell phone mitigate communication barrier faced people deficiency',\n",
       " 'constant involvement end usersbeta user developer continuously monitor find requirement gap',\n",
       " 'careful “ scope creep ” uncontrolled change large project fall victim scope creep scope creep often result cost overrun',\n",
       " 'design pattern used create cps mvc model view controller design pattern',\n",
       " 'mvc design patter clearly separated web application ’ behavior presentation control',\n",
       " 'archive administrator create new client space',\n",
       " 'client administrator manage role client',\n",
       " 'archive administrator access document',\n",
       " 'client administrator view role',\n",
       " 'client administrator canï¿½t read content document',\n",
       " 'client administrator deleted',\n",
       " 'end user multiple role time',\n",
       " 'end user person role',\n",
       " 'authenticated end user client server access phrased urcar urcar document space',\n",
       " 'end user access phrased urcar urcar document space client',\n",
       " 'end user view assigned right assigned role',\n",
       " 'role managed one role',\n",
       " 'role inherits static right role manages',\n",
       " 'role set possibly empty person role assigned',\n",
       " 'role owns set document sda',\n",
       " 'role set right assigned',\n",
       " 'archive administrator limit available client space',\n",
       " 'role canï¿½t deleted exists document owned role',\n",
       " 'end user predefined period time delegate role another person role',\n",
       " 'role log assignment right expiration right logged',\n",
       " 'role log delegation expiration delegation logged',\n",
       " 'role right assign roleright subordinate role',\n",
       " 'role right remove roleright subordinate role',\n",
       " 'role right create subordinate role',\n",
       " 'role right read view role',\n",
       " 'role right update subordinate role',\n",
       " 'role right delete subordinate role',\n",
       " 'role deleted manages subordinate role',\n",
       " 'role right couple person role subordinate role',\n",
       " 'role right decouple person role subordinate role',\n",
       " 'role right assign document right document owns another role',\n",
       " 'role right take document right document owns another role',\n",
       " 'role upload file document space associated role',\n",
       " 'role download file document space associated role',\n",
       " 'role update right update file document space associated role',\n",
       " 'role delete right delete file document space associated role',\n",
       " 'document sda owned exactly one role',\n",
       " 'role owns document hand ownership another role',\n",
       " 'user start chating user clicking chat menu',\n",
       " 'documentation also updated meeting team leader adjust weekly goal checking progress subphase ensure subphase meet requirement deliverable time',\n",
       " 'software documentation uml documentation rational rose project document microsoft office',\n",
       " 'added project overview project organization',\n",
       " 'design pattern used create cps mvc model view controller design pattern',\n",
       " 'mvc design patter clearly separated web application ’ behavior presentation control',\n",
       " 'business tier deal core functionality system search post match ride manage profile',\n",
       " 'eis tier responsible storing user profile ride advertisement',\n",
       " 'runtime pattern applied',\n",
       " 'deployment development server fails use one operational server urgent problem fixed',\n",
       " 'one operational server fails two deployment server replacement',\n",
       " 'development workstation fail spare workstation case workstation failure',\n",
       " 'user see detailed information sgp',\n",
       " 'user apply sgp',\n",
       " 'user application update form sgp',\n",
       " 'user update personal data',\n",
       " 'user upload application related document',\n",
       " 'user take english proficiency test',\n",
       " 'added project overview project organization',\n",
       " 'edited document template project organization “ work element schedule budget ”',\n",
       " 'edited project organization managerial process document template also revised',\n",
       " 'added risk management section',\n",
       " 'design pattern used create cps mvc model view controller design pattern',\n",
       " 'mvc design patter clearly separated web application ’ behavior presentation control',\n",
       " 'system support require streamlined staff login method example staff member swipe card log terminal staff member log terminal using hisher individual login password',\n",
       " 'system administrator create reliable report template available staff run modified staff person particular need change template could done without comprising result administrator limit filter display field altered certify dependable output example frontline staff could set call number range weeding report add remove designated display field pick list ’ alter template display deleted item',\n",
       " 'system provides distinct finegrained permission level limiting create clone report permission easy administer system administrator create shared folder allow disallow staff run specific report andor run ad hoc report specific set data',\n",
       " 'system provides userfriendly interface designing query record type staff select field query select value picklist possible value select regular expression dropdown menu use full range boolean operator administrator control staff access table field',\n",
       " 'system provides predefined report consumption library board consumer report providing basic statistic like required georgia annual report application state aid activity report indicate traffic volume use display statistic checkout checkins hold placed hold filled possible crosstabulated per terminal per branch per library system per hour per patron age range per patron type per patron location',\n",
       " 'transaction archived form protects patron privacy defined state law providing useful demographic statistic',\n",
       " 'example periodic report bibliographic record hold item checked x day itemlevel hold item invalid item type intransit item outstanding hold item intransit x day item last copy thesystem item long call number missing item bibliographic record item record patron invalid home library',\n",
       " 'system provides query selection along result',\n",
       " 'ability see report queue report waiting run',\n",
       " 'system must able support reporting definition described appendix',\n",
       " 'system must able support finegrained report requirement described appendix b',\n",
       " 'system produce statistic used understand predict patron behavior use material example quickly particular book returned average likely particular book renewed percent checkout particular branch renewal',\n",
       " 'ability report volume material given library point time based new acquisition item shelf item circulation ability break volume category eg total item library number hold number adult fiction number board book etc',\n",
       " 'system provides interface showing capacity branch defined pine',\n",
       " 'genre format material ability compare percentage total circulation percentage collection percentage total shelf space genreformat comprises ability report per library per system',\n",
       " 'ability control inventory uncataloged material paperback book childrens board book support quick distribution minimal branch labor ability identify material used ability count transaction include circulation statistic report',\n",
       " 'system provides utility transferring batch item branch used example move book mobile library outreach program collection justintime warehouse utility includes ability query candidate material ability save query repeated use ability manually select title query result ability change record selected item move new location mechanism moving item include changing location field generating pull list etc addition utility provides mean revert item original location set period time andor based criterion',\n",
       " 'system generates list item intransit x day x configurable per branch per system report would merge transit transit one report ease frontline staff use',\n",
       " 'system provides utility report identifying item record purge based customizable criterion item status missing x month item status discardweed system report assist conversion item one status another system provides last copy report would single library system last copy assist cataloger need edit worldcat entry system provides quick effective method deleting volume entry along copy entry well record item attached',\n",
       " 'ability count track record deletion eg item record patron record per location per system',\n",
       " 'query report limited grouped various patron characteristic including age range zip code county residence home branch patron type preferred language',\n",
       " 'system generates list patron circulation electronic activity last x day x configurable list configurable system home library county etc',\n",
       " 'transaction history maintained x day x configurable monthly annual aggregate information maintained indefinitely',\n",
       " 'transaction grouped hour terminal branch system transaction include checkins checkout fine collected patron registration etc queried transaction type transaction',\n",
       " 'system count type checkin individually cumulatively bookdrop terminal user selfservice',\n",
       " 'system count type checkout individually cumulatively staff checkout self checkout staff renewal self checkout renewal online renewal opac renewal',\n",
       " 'system count hold request including hold placed staff desk public computer inside library remotely',\n",
       " 'system generate report transaction hold placed hold filled checkout per patron per library per selected group library per system per county system display number checkout placed hold per patron hold subtotaled type eg active frozen frozenuntil hold',\n",
       " 'system generate report value item based data item record entire collection portion example staff obtain value item status longoverdue value dvd childrens collection value entire collection',\n",
       " 'report data archiving must comply standard accounting practice state county municipal auditing requirement',\n",
       " 'fine charge waiver ecommerce transaction attached patron item record system track fine waived payment made per library financial information updated easily example staff user easily query patron account balance greater x dollar',\n",
       " 'system provides financial report including patron account balance patron home library system fine charge accrued per time period eg last twelve month ytd last month per type charge overdue fine damaged item charge lost item charge etc fine waived per time period per branch payment made per time period per payment method eg staff desk selfcheck station opac',\n",
       " 'system maintains ledger patron payment including charge payment applied facilitate reconciliation',\n",
       " 'software design phase mockup built show function operation product later executable product primary function implemented',\n",
       " 'assumed every team member basic knowledge programming software engineering database',\n",
       " 'subphase team leader person deliver work schedule weekly goal beginning subphase',\n",
       " 'used existing template structure document added meeting minute project deliverable reference team member',\n",
       " 'fixed formatting table content added template reference',\n",
       " 'diagram designer charge designing diagram project documentation includes uml diagram prototype process diagram management plan kaos diagram documenting requirement graphical form',\n",
       " 'way avoid scope creep develop change control procedure good design specification start good communication develop good software development process avoiding agile software development',\n",
       " 'careful “ scope creep ” uncontrolled change large project fall victim scope creep scope creep often result cost overrun',\n",
       " 'major technology rely upon could possibly fail major technology risk thing like google phone android software andor algorithm etc']"
      ]
     },
     "execution_count": 165,
     "metadata": {},
     "output_type": "execute_result"
    }
   ],
   "source": [
    "word_list"
   ]
  },
  {
   "cell_type": "code",
   "execution_count": 166,
   "metadata": {},
   "outputs": [],
   "source": [
    "dataprepp=pd.DataFrame(word_list)\n",
    "dataprepp.to_csv('dataprep1.csv', index=False)"
   ]
  },
  {
   "cell_type": "code",
   "execution_count": 167,
   "metadata": {},
   "outputs": [
    {
     "data": {
      "text/html": [
       "<div>\n",
       "<style scoped>\n",
       "    .dataframe tbody tr th:only-of-type {\n",
       "        vertical-align: middle;\n",
       "    }\n",
       "\n",
       "    .dataframe tbody tr th {\n",
       "        vertical-align: top;\n",
       "    }\n",
       "\n",
       "    .dataframe thead th {\n",
       "        text-align: right;\n",
       "    }\n",
       "</style>\n",
       "<table border=\"1\" class=\"dataframe\">\n",
       "  <thead>\n",
       "    <tr style=\"text-align: right;\">\n",
       "      <th></th>\n",
       "      <th>0</th>\n",
       "    </tr>\n",
       "  </thead>\n",
       "  <tbody>\n",
       "    <tr>\n",
       "      <th>149</th>\n",
       "      <td>fixed formatting table content added template ...</td>\n",
       "    </tr>\n",
       "    <tr>\n",
       "      <th>150</th>\n",
       "      <td>diagram designer charge designing diagram proj...</td>\n",
       "    </tr>\n",
       "    <tr>\n",
       "      <th>151</th>\n",
       "      <td>way avoid scope creep develop change control p...</td>\n",
       "    </tr>\n",
       "    <tr>\n",
       "      <th>152</th>\n",
       "      <td>careful “ scope creep ” uncontrolled change la...</td>\n",
       "    </tr>\n",
       "    <tr>\n",
       "      <th>153</th>\n",
       "      <td>major technology rely upon could possibly fail...</td>\n",
       "    </tr>\n",
       "  </tbody>\n",
       "</table>\n",
       "</div>"
      ],
      "text/plain": [
       "                                                     0\n",
       "149  fixed formatting table content added template ...\n",
       "150  diagram designer charge designing diagram proj...\n",
       "151  way avoid scope creep develop change control p...\n",
       "152  careful “ scope creep ” uncontrolled change la...\n",
       "153  major technology rely upon could possibly fail..."
      ]
     },
     "execution_count": 167,
     "metadata": {},
     "output_type": "execute_result"
    }
   ],
   "source": [
    "dataprepp.tail(5)"
   ]
  },
  {
   "cell_type": "markdown",
   "metadata": {},
   "source": [
    "<h3>Konstruksi&nbsp;<strong>Word Embedding (skip-gram)</strong></h3>\n"
   ]
  },
  {
   "cell_type": "code",
   "execution_count": 168,
   "metadata": {},
   "outputs": [],
   "source": [
    "import pandas as pd\n",
    "from gensim.models import Word2Vec\n",
    "\n",
    "def tokenization(lemmatized_word):\n",
    "    #tokenization\n",
    "    from nltk.tokenize import word_tokenize\n",
    "    tokens = word_tokenize(lemmatized_word)\n",
    "    return tokens\n",
    "\n",
    "news = pd.read_csv('dataprep1.csv', sep=',', encoding='latin-1')\n",
    "newss=[]\n",
    "\n",
    "for i in range(100):\n",
    "    news['0'][i] = tokenization(news['0'][i])\n",
    "    newss.append(news['0'][i])"
   ]
  },
  {
   "cell_type": "code",
   "execution_count": 169,
   "metadata": {},
   "outputs": [
    {
     "name": "stdout",
     "output_type": "stream",
     "text": [
      "Word2Vec(vocab=307, size=100, alpha=0.025)\n"
     ]
    }
   ],
   "source": [
    "model = Word2Vec(newss, min_count=1, sg=1)\n",
    "# summarize the loaded model\n",
    "print(model)"
   ]
  },
  {
   "cell_type": "code",
   "execution_count": 170,
   "metadata": {},
   "outputs": [
    {
     "name": "stdout",
     "output_type": "stream",
     "text": [
      "['user', 'submit', 'job', 'associate', 'deadline', 'cost', 'execution', 'time', 'query', 'cluster', 'establish', 'unit', 'monitor', 'status', 'cancel', 'check', 'credit', 'balance', 'usage', 'history', 'node', 'pattern', 'load', 'alters', 'structure', 'schedule', 'policy', 'take', 'photo', 'new', 'student', 'development', 'process', 'follow', 'rational', 'unified', 'rup', 'approach', 'sdms', 'developed', 'waterfall', 'model', 'objective', 'project', 'develop', 'meeting', 'scheduler', 'product', 'organized', 'routine', 'allows', 'u', 'concentrate', 'core', 'element', 'different', 'phase', 'easily', 'efficiently', 'web', 'tier', 'deal', 'presentation', 'logic', 'page', 'rendering', 'eis', 'responsible', 'storing', 'profile', 'ride', 'advertisement', 'runtime', 'applied', 'done', 'extra', 'application', 'server', 'deployed', 'working', 'future', 'ibm', 'running', 'jboss', 'database', 'mysql', 'redundancy', 'using', 'mirroring', 'raid', 'mode', 'workstation', 'run', 'linux', 'use', 'eclipse', 'platform', 'system', 'administrator', 'must', 'able', 'deactivate', 'reactivate', 'account', 'login', 'force', 'sending', 'password', 'via', 'email', 'change', 'detail', 'register', 'fill', 'forward', 'choose', 'projectsupervisor', 'information', 'incorrect', 'telephone', 'number', 'security', 'reason', 'request', 'heshe', 'forgotten', 'staff', 'view', 'certain', 'may', 'designated', 'cohort', 'coordinator', 'progress', 'list', 'employee', 'personal', 'program', 'reset', 'required', 'backup', 'mail', 'course', 'registration', 'regularly', 'administration', 'create', 'monthly', 'accounting', 'report', 'make', 'school', 'announcement', 'encompasses', 'following', 'activity', 'engineering', 'requirement', 'analysis', 'software', 'design', 'implementation', 'testing', 'highly', 'emphasized', 'team', 'consists', 'member', 'involved', 'subphase', 'leader', 'crutch', 'developing', 'android', 'cell', 'phone', 'mitigate', 'communication', 'barrier', 'faced', 'people', 'deficiency', 'constant', 'involvement', 'end', 'usersbeta', 'developer', 'continuously', 'find', 'gap', 'careful', 'â\\x80\\x9c', 'scope', 'creep', 'â\\x80\\x9d', 'uncontrolled', 'large', 'fall', 'victim', 'often', 'result', 'overrun', 'used', 'cps', 'mvc', 'controller', 'patter', 'clearly', 'separated', 'â\\x80\\x99', 'behavior', 'control', 'archive', 'client', 'space', 'manage', 'role', 'access', 'document', 'canÃ¯Â¿Â½t', 'read', 'content', 'deleted', 'multiple', 'person', 'authenticated', 'phrased', 'urcar', 'assigned', 'right', 'managed', 'one', 'inherits', 'static', 'manages', 'set', 'possibly', 'empty', 'owns', 'sda', 'limit', 'available', 'exists', 'owned', 'predefined', 'period', 'delegate', 'another', 'log', 'assignment', 'expiration', 'logged', 'delegation', 'assign', 'roleright', 'subordinate', 'remove', 'update', 'delete', 'couple', 'decouple', 'upload', 'file', 'associated', 'download', 'exactly', 'hand', 'ownership', 'start', 'chating', 'clicking', 'chat', 'menu', 'documentation', 'also', 'updated', 'adjust', 'weekly', 'goal', 'checking', 'ensure', 'meet', 'deliverable', 'uml', 'rose', 'microsoft', 'office', 'added', 'overview', 'organization', 'business', 'functionality', 'search', 'post', 'match', 'deployment', 'fails', 'operational', 'urgent', 'problem', 'fixed', 'two', 'replacement', 'fail', 'spare', 'case', 'failure']\n"
     ]
    }
   ],
   "source": [
    "# summarize vocabulary\n",
    "words = list(model.wv.vocab)\n",
    "print(words)"
   ]
  },
  {
   "cell_type": "code",
   "execution_count": 171,
   "metadata": {},
   "outputs": [
    {
     "name": "stdout",
     "output_type": "stream",
     "text": [
      "Word2Vec(vocab=307, size=100, alpha=0.025)\n"
     ]
    }
   ],
   "source": [
    "# save model\n",
    "model.save('modeln.bin')\n",
    "# load model\n",
    "new_model = Word2Vec.load('modeln.bin')\n",
    "print(new_model)"
   ]
  },
  {
   "cell_type": "code",
   "execution_count": 172,
   "metadata": {},
   "outputs": [
    {
     "name": "stdout",
     "output_type": "stream",
     "text": [
      "role 54\n",
      "system 44\n",
      "user 32\n",
      "item 30\n",
      "report 27\n",
      "per 26\n",
      "document 21\n",
      "staff 20\n",
      "right 19\n",
      "patron 18\n",
      "server 16\n",
      "administrator 16\n",
      "student 14\n",
      "project 14\n",
      "library 14\n",
      "application 13\n",
      "hold 13\n",
      "ability 13\n",
      "design 12\n",
      "record 12\n"
     ]
    }
   ],
   "source": [
    "from sklearn.feature_extraction.text import CountVectorizer\n",
    "\n",
    "def get_top_n_words(corpus, n=None):\n",
    "    vec = CountVectorizer(stop_words = stopwords.words('english')).fit(corpus)\n",
    "    bag_of_words = vec.transform(corpus)\n",
    "    sum_words = bag_of_words.sum(axis=0) \n",
    "    words_freq = [(word, sum_words[0, idx]) for word, idx in vec.vocabulary_.items()]\n",
    "    words_freq =sorted(words_freq, key = lambda x: x[1], reverse=True)\n",
    "    return words_freq[:n]\n",
    "common_words = get_top_n_words(word_list, 20)\n",
    "for word, freq in common_words:\n",
    "    print(word, freq)\n",
    "df2 = pd.DataFrame(common_words, columns = ['News' , 'count'])"
   ]
  },
  {
   "cell_type": "code",
   "execution_count": 173,
   "metadata": {},
   "outputs": [
    {
     "name": "stdout",
     "output_type": "stream",
     "text": [
      "[('system', 0.32030031085014343), ('rendering', 0.3131704330444336), ('balance', 0.27029669284820557), ('development', 0.24968262016773224), ('view', 0.24678455293178558)]\n"
     ]
    },
    {
     "name": "stderr",
     "output_type": "stream",
     "text": [
      "C:\\Users\\asus\\Anaconda3\\lib\\site-packages\\ipykernel_launcher.py:1: DeprecationWarning: Call to deprecated `most_similar` (Method will be removed in 4.0.0, use self.wv.most_similar() instead).\n",
      "  \"\"\"Entry point for launching an IPython kernel.\n"
     ]
    }
   ],
   "source": [
    "result3 = model.most_similar('user', topn=5)\n",
    "print(result3)"
   ]
  },
  {
   "cell_type": "code",
   "execution_count": 182,
   "metadata": {},
   "outputs": [
    {
     "name": "stdout",
     "output_type": "stream",
     "text": [
      "Word2Vec(vocab=41, size=100, alpha=0.025)\n"
     ]
    }
   ],
   "source": [
    "new_isomodel = Word2Vec.load('isomodel.bin')\n",
    "print(new_isomodel)"
   ]
  },
  {
   "cell_type": "code",
   "execution_count": 183,
   "metadata": {},
   "outputs": [
    {
     "name": "stdout",
     "output_type": "stream",
     "text": [
      "[('environment', 0.19473305344581604), ('alert', 0.09444408118724823), ('virus', 0.07332561910152435), ('tester', 0.06715662032365799), ('develop', 0.0669461265206337)]\n"
     ]
    },
    {
     "name": "stderr",
     "output_type": "stream",
     "text": [
      "C:\\Users\\asus\\Anaconda3\\lib\\site-packages\\ipykernel_launcher.py:1: DeprecationWarning: Call to deprecated `most_similar` (Method will be removed in 4.0.0, use self.wv.most_similar() instead).\n",
      "  \"\"\"Entry point for launching an IPython kernel.\n"
     ]
    }
   ],
   "source": [
    "results = new_isomodel.most_similar('administration', topn=5)\n",
    "print(results)"
   ]
  },
  {
   "cell_type": "code",
   "execution_count": null,
   "metadata": {},
   "outputs": [],
   "source": []
  }
 ],
 "metadata": {
  "kernelspec": {
   "display_name": "Python 3",
   "language": "python",
   "name": "python3"
  },
  "language_info": {
   "codemirror_mode": {
    "name": "ipython",
    "version": 3
   },
   "file_extension": ".py",
   "mimetype": "text/x-python",
   "name": "python",
   "nbconvert_exporter": "python",
   "pygments_lexer": "ipython3",
   "version": "3.6.5"
  }
 },
 "nbformat": 4,
 "nbformat_minor": 2
}
