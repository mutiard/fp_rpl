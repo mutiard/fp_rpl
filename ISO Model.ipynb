{
 "cells": [
  {
   "cell_type": "markdown",
   "metadata": {},
   "source": [
    "<h1>Create ISO 25000 Model</h1>"
   ]
  },
  {
   "cell_type": "code",
   "execution_count": 4,
   "metadata": {},
   "outputs": [
    {
     "name": "stdout",
     "output_type": "stream",
     "text": [
      "Word2Vec(vocab=41, size=100, alpha=0.025)\n",
      "['accuracy', 'concurr', 'deliveri', 'fail', 'quickly', 'tester', 'adapt', 'adjust', 'hardware', 'infrastructure', 'multiple', 'web', 'client', 'dynamic', 'interface', 'interoperability', 'intuition', 'usable', 'use', 'account', 'administration', 'alert', 'certificate', 'permitted', 'reliable', 'safe', 'antivirus', 'attack', 'authentication', 'encrypt', 'secure', 'virus', 'addition', 'develop', 'recompile', 'reconfigure', 'environment', 'export', 'mobile', 'platform', 'portable']\n",
      "[ 0.00324454 -0.00272097  0.00041355 -0.00490346  0.00106049  0.00164013\n",
      " -0.00188197 -0.00233321 -0.00190046 -0.00458116  0.00025455 -0.00238974\n",
      "  0.00304517 -0.00153204 -0.00354719 -0.00170395 -0.00351314  0.00387568\n",
      " -0.00019097  0.00497496  0.00198883  0.00122116  0.00148338 -0.00286503\n",
      "  0.00266406  0.00214862  0.00068861  0.00397634  0.00239319 -0.00366092\n",
      " -0.00039036 -0.00432127  0.00111735  0.00273581 -0.00018645 -0.00393427\n",
      "  0.0039058   0.00393921  0.00370927  0.00014163 -0.00317317 -0.001089\n",
      "  0.00263095  0.00308303 -0.00358741 -0.00312809  0.00126776 -0.00248022\n",
      " -0.00494608 -0.00418896  0.00418318  0.00319313 -0.0041417  -0.00038689\n",
      "  0.00189517  0.00243402 -0.00061577 -0.00141874 -0.00404081 -0.00336261\n",
      " -0.00271978  0.00012654  0.00197357 -0.00029671 -0.00243605  0.0020845\n",
      " -0.00164871  0.00260995 -0.00375269 -0.00313805 -0.00314401 -0.00488407\n",
      "  0.00455834 -0.00323623 -0.00229111  0.00153724  0.00229841 -0.0033166\n",
      "  0.00481034 -0.00202107  0.00197776  0.00188503 -0.00249065 -0.0012757\n",
      " -0.00286428  0.00448925  0.00320175 -0.00345646 -0.00285158 -0.00325556\n",
      "  0.0028099  -0.00219511  0.00024343  0.00100532  0.00462774  0.00112686\n",
      " -0.00375675 -0.00055204 -0.00171597  0.00010912]\n"
     ]
    },
    {
     "name": "stderr",
     "output_type": "stream",
     "text": [
      "C:\\Users\\asus\\Anaconda3\\lib\\site-packages\\ipykernel_launcher.py:18: DeprecationWarning: Call to deprecated `__getitem__` (Method will be removed in 4.0.0, use self.wv.__getitem__() instead).\n"
     ]
    }
   ],
   "source": [
    "from gensim.models import Word2Vec\n",
    "# define training data\n",
    "iso = [['accuracy','concurr','deliveri','fail','quickly','tester'],\n",
    "             ['adapt','adjust','hardware','infrastructure','multiple','web'],\n",
    "             ['client','dynamic','interface','interoperability','intuition','usable','use'],\n",
    "             ['account','administration','alert','certificate','permitted','reliable','safe'],\n",
    "             ['antivirus','attack','authentication','encrypt','secure','virus'],\n",
    "             ['addition','adjust','develop','recompile','reconfigure'],\n",
    "             ['adapt','environment','export','infrastructure','mobile','platform','portable']]\n",
    "# train model\n",
    "isomodel = Word2Vec(iso, min_count=1)\n",
    "# summarize the loaded model\n",
    "print(isomodel)\n",
    "# summarize vocabulary\n",
    "isowords = list(isomodel.wv.vocab)\n",
    "print(isowords)\n",
    "# access vector for one word\n",
    "print(isomodel['portable'])\n",
    "# save model\n",
    "isomodel.save('isomodel.bin')"
   ]
  },
  {
   "cell_type": "code",
   "execution_count": null,
   "metadata": {},
   "outputs": [],
   "source": []
  }
 ],
 "metadata": {
  "kernelspec": {
   "display_name": "Python 3",
   "language": "python",
   "name": "python3"
  },
  "language_info": {
   "codemirror_mode": {
    "name": "ipython",
    "version": 3
   },
   "file_extension": ".py",
   "mimetype": "text/x-python",
   "name": "python",
   "nbconvert_exporter": "python",
   "pygments_lexer": "ipython3",
   "version": "3.6.5"
  }
 },
 "nbformat": 4,
 "nbformat_minor": 2
}
