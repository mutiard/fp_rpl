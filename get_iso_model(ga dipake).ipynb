{
 "cells": [
  {
   "cell_type": "markdown",
   "metadata": {},
   "source": [
    "<h1>Create ISO 25000 Model (ga dipake)</h1>"
   ]
  },
  {
   "cell_type": "code",
   "execution_count": 1,
   "metadata": {},
   "outputs": [
    {
     "name": "stderr",
     "output_type": "stream",
     "text": [
      "C:\\Users\\asus\\Anaconda3\\lib\\site-packages\\gensim\\utils.py:1197: UserWarning: detected Windows; aliasing chunkize to chunkize_serial\n",
      "  warnings.warn(\"detected Windows; aliasing chunkize to chunkize_serial\")\n"
     ]
    },
    {
     "name": "stdout",
     "output_type": "stream",
     "text": [
      "Word2Vec(vocab=41, size=100, alpha=0.025)\n",
      "['accuracy', 'concurr', 'deliveri', 'fail', 'quickly', 'tester', 'adapt', 'adjust', 'hardware', 'infrastructure', 'multiple', 'web', 'client', 'dynamic', 'interface', 'interoperability', 'intuition', 'usable', 'use', 'account', 'administration', 'alert', 'certificate', 'permitted', 'reliable', 'safe', 'antivirus', 'attack', 'authentication', 'encrypt', 'secure', 'virus', 'addition', 'develop', 'recompile', 'reconfigure', 'environment', 'export', 'mobile', 'platform', 'portable']\n",
      "[ 1.0097900e-03  2.8030048e-03 -6.8236515e-04 -2.1200690e-03\n",
      "  4.9181152e-03  1.0887760e-03 -1.9263824e-03  4.7179777e-03\n",
      " -1.5277595e-03  6.6206907e-05  9.3840255e-04 -1.9893653e-03\n",
      "  3.8284350e-03 -6.6780759e-04 -3.9434941e-03 -2.0268785e-03\n",
      "  1.8653292e-03  1.7696035e-03 -1.5061748e-03  1.1371030e-03\n",
      "  2.4848476e-03  2.7780004e-03 -1.9393662e-03  7.9914095e-04\n",
      " -8.4310916e-04  2.1116647e-03 -3.4489790e-03 -4.1592675e-03\n",
      "  1.8303068e-03 -1.3478335e-03 -2.3210763e-03 -1.5818418e-03\n",
      "  3.0753261e-03  2.0542990e-03 -2.8338279e-03 -3.1062472e-04\n",
      "  3.6769386e-03 -2.1613757e-03  1.5028138e-03 -3.7542360e-03\n",
      "  2.9969397e-03  3.4043437e-03 -1.2956633e-03  3.5401848e-03\n",
      "  2.4876738e-04 -3.2055127e-03  3.1664883e-04 -2.7168868e-03\n",
      " -4.1991570e-03  2.1840972e-03  2.5121039e-03  1.4585831e-03\n",
      " -1.3125450e-03  1.6304613e-03  2.0259772e-03  2.6015737e-03\n",
      " -6.8076118e-04  1.9000971e-03 -4.4139693e-04 -1.1328687e-03\n",
      " -2.2595767e-03 -3.9630826e-03 -1.2070759e-03  2.9620444e-03\n",
      " -5.2889041e-04 -3.5061392e-03 -3.6217859e-03 -3.2975031e-03\n",
      "  4.5877453e-03  1.5750427e-03 -3.2714971e-03 -2.8434882e-03\n",
      "  4.3111281e-03  2.2267846e-03  2.3309793e-03 -1.3175110e-03\n",
      "  1.4067779e-05 -2.8239766e-03  2.7117403e-03 -7.1933115e-04\n",
      "  3.2562900e-03 -1.9924897e-03 -2.5426319e-03 -3.9525316e-03\n",
      "  3.9056190e-03  1.1759481e-03 -2.1863901e-03  1.6962836e-03\n",
      "  3.4558428e-03  4.0898463e-03  4.8952796e-03 -4.8728539e-03\n",
      "  1.7786119e-03  2.0662702e-03  3.1735143e-03 -3.4207529e-03\n",
      " -3.8542214e-04  3.0358501e-03  1.5952843e-03  1.9842742e-03]\n"
     ]
    },
    {
     "name": "stderr",
     "output_type": "stream",
     "text": [
      "C:\\Users\\asus\\Anaconda3\\lib\\site-packages\\ipykernel_launcher.py:18: DeprecationWarning: Call to deprecated `__getitem__` (Method will be removed in 4.0.0, use self.wv.__getitem__() instead).\n"
     ]
    }
   ],
   "source": [
    "from gensim.models import Word2Vec\n",
    "# define training data\n",
    "iso = [['accuracy','concurr','deliveri','fail','quickly','tester'],\n",
    "             ['adapt','adjust','hardware','infrastructure','multiple','web'],\n",
    "             ['client','dynamic','interface','interoperability','intuition','usable','use'],\n",
    "             ['account','administration','alert','certificate','permitted','reliable','safe'],\n",
    "             ['antivirus','attack','authentication','encrypt','secure','virus'],\n",
    "             ['addition','adjust','develop','recompile','reconfigure'],\n",
    "             ['adapt','environment','export','infrastructure','mobile','platform','portable']]\n",
    "# train model\n",
    "isomodel = Word2Vec(iso, min_count=1)\n",
    "# summarize the loaded model\n",
    "print(isomodel)\n",
    "# summarize vocabulary\n",
    "isowords = list(isomodel.wv.vocab)\n",
    "print(isowords)\n",
    "# access vector for one word\n",
    "print(isomodel['portable'])\n",
    "# save model\n",
    "isomodel.save('isomodel.bin')"
   ]
  },
  {
   "cell_type": "code",
   "execution_count": null,
   "metadata": {},
   "outputs": [],
   "source": []
  }
 ],
 "metadata": {
  "kernelspec": {
   "display_name": "Python 3",
   "language": "python",
   "name": "python3"
  },
  "language_info": {
   "codemirror_mode": {
    "name": "ipython",
    "version": 3
   },
   "file_extension": ".py",
   "mimetype": "text/x-python",
   "name": "python",
   "nbconvert_exporter": "python",
   "pygments_lexer": "ipython3",
   "version": "3.6.5"
  }
 },
 "nbformat": 4,
 "nbformat_minor": 2
}
